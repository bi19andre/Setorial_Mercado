{
 "cells": [
  {
   "cell_type": "markdown",
   "metadata": {},
   "source": [
    "# Análise Setorial"
   ]
  },
  {
   "cell_type": "markdown",
   "metadata": {},
   "source": [
    "<p style=\"font-size:16px; padding-left: 30px;\"><strong style=\"color: #3583DE;\">dbo.setorial_f_pib</strong>\n",
    "\n",
    "<p style=\"font-size:14px; padding-left: 40px;\"><strong style=\"color: #3583DE;\">Saída:</strong> [iddata], [pib].</p>\n",
    "\n",
    "<p style=\"font-size:16px; padding-left: 30px;\"><strong style=\"color: #3583DE;\">dbo.setorial_ipca</strong>\n",
    "\n",
    "<p style=\"font-size:14px; line-height: 50%; padding-left: 40px;\"><strong style=\"color: #3583DE;\">Saída:</strong> [iddata], [meta], [previsto], [realizado].</p>"
   ]
  },
  {
   "cell_type": "markdown",
   "metadata": {},
   "source": [
    "## Libs"
   ]
  },
  {
   "cell_type": "code",
   "execution_count": 2,
   "metadata": {},
   "outputs": [],
   "source": [
    "import pandas as pd \n",
    "from datetime import date, datetime\n",
    "\n",
    "from Config.utils import *\n",
    "from Config.connect import *\n",
    "from Config.utils import *\n",
    "from Extract.get_IPCA import get_ipca \n",
    "from Extract.get_PIB import get_pib \n",
    "from Extract.get_PNAD import get_pnad\n",
    "from Extract.get_SELIC import get_selic\n",
    "from Load.insert_SQL import insert"
   ]
  },
  {
   "cell_type": "markdown",
   "metadata": {},
   "source": [
    "## Variáveis"
   ]
  },
  {
   "cell_type": "code",
   "execution_count": 3,
   "metadata": {},
   "outputs": [],
   "source": [
    "Atual = datetime.now().strftime(\"%d/%m/%Y %H:%M:%S\")\n",
    "Ano = date.today().year\n",
    "\n",
    "# Insira o local para salvamento dos arquivos csv que serão utilizados para o insert na base de dados.\n",
    "bcp_path = \"D:/\""
   ]
  },
  {
   "cell_type": "markdown",
   "metadata": {},
   "source": [
    "## Execute"
   ]
  },
  {
   "cell_type": "code",
   "execution_count": 4,
   "metadata": {},
   "outputs": [
    {
     "name": "stdout",
     "output_type": "stream",
     "text": [
      "\n",
      "20/03/2024 01:24:07: Buscando dados...\n",
      "\n"
     ]
    }
   ],
   "source": [
    "print('')\n",
    "print(f'{Atual}: Buscando dados...')\n",
    "print('')\n",
    "\n",
    "ipca_meta, ipca_previsto, ipca_realizado = get_ipca(2024)\n",
    "pib = get_pib()\n",
    "pnad = get_pnad()\n",
    "selic = get_selic()"
   ]
  },
  {
   "cell_type": "markdown",
   "metadata": {},
   "source": [
    "## Saída"
   ]
  },
  {
   "cell_type": "markdown",
   "metadata": {},
   "source": [
    "### Insere os dados na base SQL Server"
   ]
  },
  {
   "cell_type": "code",
   "execution_count": null,
   "metadata": {},
   "outputs": [],
   "source": [
    "#Insira em saida_dict as tabelas que serão populadas na base ao lado dos respectivos DataFrames. \n",
    "saida_dict = {\n",
    "    ipca_meta: 'setorial_f_ipca_meta',\n",
    "    ipca_previsto: 'setorial_f_ipca_previsto',\n",
    "    ipca_realizado: 'setorial_f_ipca_realizado',\n",
    "    pib: 'setorial_f_pib',\n",
    "    pnad: 'setorial_f_desemprego',\n",
    "    selic: 'setorial_f_selic'\n",
    "}\n",
    "\n",
    "for df, tabela in saida_dict.items():\n",
    "    insert(df = df, schema = 'dbo', tabela = tabela, bcp_path = bcp_path)"
   ]
  },
  {
   "cell_type": "markdown",
   "metadata": {},
   "source": [
    "### Atualiza Power BI DataSet"
   ]
  },
  {
   "cell_type": "code",
   "execution_count": null,
   "metadata": {},
   "outputs": [],
   "source": [
    "update_url = f'https://api.powerbi.com/v1.0/myorg/groups/{ws_setorial}/datasets/{ds_setorial}/refreshes'\n",
    "response = requests.post(update_url, headers=PBIheaders)\n",
    "\n",
    "if response.status_code == 202:\n",
    "    MsgPBI = 'DS Análise Setorial - Solicitação de atualização enviada com sucesso.'\n",
    "else:\n",
    "    MsgPBI = 'DS Análise Setorial - Ocorreu um erro ao enviar a solicitação de atualização.'\n",
    "    MsgPBI = 'DS Análise Setorial - Código de status:', response.status_code\n",
    "    MsgPBI = 'DS Análise Setorial - Resposta:', response.json()\n",
    "\n",
    "print('')\n",
    "print(MsgPBI)\n",
    "print('')\n",
    "\n",
    "input(\"Pressione Enter para sair...\")"
   ]
  }
 ],
 "metadata": {
  "kernelspec": {
   "display_name": "Python 3",
   "language": "python",
   "name": "python3"
  },
  "language_info": {
   "codemirror_mode": {
    "name": "ipython",
    "version": 3
   },
   "file_extension": ".py",
   "mimetype": "text/x-python",
   "name": "python",
   "nbconvert_exporter": "python",
   "pygments_lexer": "ipython3",
   "version": "3.11.3"
  }
 },
 "nbformat": 4,
 "nbformat_minor": 2
}
