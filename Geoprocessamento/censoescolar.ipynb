{
 "cells": [
  {
   "cell_type": "markdown",
   "metadata": {},
   "source": [
    "# **Censo Escolar** - Microdados da Educação Básica"
   ]
  },
  {
   "cell_type": "markdown",
   "metadata": {},
   "source": [
    "Os dados do Censo Escolar foram baixados do site do INEP, de 2016 a 2023, em formato csv e são tratados neste script."
   ]
  },
  {
   "cell_type": "markdown",
   "metadata": {},
   "source": [
    "## Configurações"
   ]
  },
  {
   "cell_type": "code",
   "execution_count": null,
   "metadata": {
    "notebookRunGroups": {
     "groupValue": "12"
    }
   },
   "outputs": [],
   "source": [
    "import sys\n",
    "import pandas as pd\n",
    "import warnings\n",
    "import os\n",
    "from datetime import datetime\n",
    "\n",
    "sys.path.append('/apoiodev/')\n",
    "from geocoder import Geocoder \n",
    "from connect import conn, command_bcp\n",
    "from utils import endereco_geocode\n",
    "from config import cd_CensoEscolar, cd_Bcp\n",
    "\n",
    "warnings.filterwarnings(\"ignore\")"
   ]
  },
  {
   "cell_type": "code",
   "execution_count": null,
   "metadata": {
    "notebookRunGroups": {
     "groupValue": "12"
    }
   },
   "outputs": [],
   "source": [
    "ano_inicial = input(\"Digite o ano inicial: \")\n",
    "ano_inicial = int(ano_inicial)\n",
    "ano_final = input(\"Digite o ano final: \")\n",
    "ano_final = int(ano_final)\n",
    "\n",
    "anos = list(range(ano_inicial, ano_final + 1))\n",
    "\n",
    "current_datetime = datetime.now()\n",
    "inicio = current_datetime.strftime('%Y-%m-%d %H:%M:%S')"
   ]
  },
  {
   "cell_type": "markdown",
   "metadata": {},
   "source": [
    "### Dicionários"
   ]
  },
  {
   "cell_type": "code",
   "execution_count": null,
   "metadata": {
    "notebookRunGroups": {
     "groupValue": "12"
    }
   },
   "outputs": [],
   "source": [
    "dicionario0 = pd.read_excel(f\"{cd_CensoEscolar}dicionario2023.xlsx\")\n",
    "dicionario1 = dicionario0.dropna(subset='indicador')\n",
    "dicionario1['atributo'] = dicionario1['atributo'].fillna('')\n",
    "dicionario1['identificacao'] = dicionario1['indicador']\n",
    "dicionario1.loc[dicionario1['atributo'] != '', 'identificacao'] = dicionario1['indicador'].astype(str) + \"|\" + dicionario1['atributo'].astype(str)\n",
    "columns_dict = dicionario1.set_index('variavel')['identificacao'].to_dict()\n",
    "\n",
    "points = pd.read_sql(\"SELECT * FROM cadastro_d_points;\", conn)\n",
    "points['endereco'] = points['endereco'].str.strip().str.lower()\n",
    "points_dict = points.set_index('endereco')['idpoint'].to_dict()"
   ]
  },
  {
   "cell_type": "markdown",
   "metadata": {},
   "source": [
    "### Funções"
   ]
  },
  {
   "cell_type": "code",
   "execution_count": null,
   "metadata": {
    "notebookRunGroups": {
     "groupValue": "12"
    }
   },
   "outputs": [],
   "source": [
    "\n",
    "def transform (base_inicial):\n",
    "    ### base1 = base para alimentação da tabela dimensão\n",
    "    base1 = base_inicial.copy()\n",
    "    base1 = base1[list(columns_dict.keys())]\n",
    "    base1 = base1.rename(columns=columns_dict)\n",
    "    base1['endereco'] = endereco_geocode(base1, 'logradouro', 'numero', 'bairro', 'municipio', 'uf', 'cep').str.strip().str.lower()\n",
    "\n",
    "    ### base2 = base para alimentação das tabelas fato\n",
    "    base2 = base1.copy()\n",
    "    base2['iddata'] = pd.to_datetime(base2['censo'].astype(str) + '-01-01')\n",
    "    base2 = base2.drop(columns=['censo', 'uf', 'municipio', 'escola', 'idcategoria', 'logradouro', 'numero', 'bairro', 'cep', 'endereco'])\n",
    "    id_vars = ['iddata', 'idinep_orig']\n",
    "    base2 = base2.melt(id_vars=id_vars, var_name='variavel', value_name='valor')\n",
    "    base2[['indicador', 'atributo']] = base2['variavel'].str.split(\"|\", expand=True)\n",
    "    del base2['variavel']\n",
    "\n",
    "    base3 = base2.dropna(subset='valor').reset_index().copy()\n",
    "    base3['valor'] = base3['valor'].astype(int)\n",
    "    base3 = base2.loc[base2['valor'] > 0]\n",
    "\n",
    "    return base1, base3\n",
    "\n",
    "\n",
    "def gera_fato (df, indicador, atributo, colunas):\n",
    "    df_fato = df.loc[df['indicador'] == indicador].reset_index(drop=True).copy()\n",
    "    df_fato = df_fato.rename(columns={'atributo': atributo})\n",
    "    df_fato['iddata'] = pd.to_datetime(df_fato['iddata'])\n",
    "    df_fato[atributo] = df_fato[atributo].astype(str).str.replace('.0', '')\n",
    "    df_fato[atributo] = df_fato[atributo].astype(int)\n",
    "    df_fato['valor'] = df_fato['valor'].astype(int)\n",
    "    df_fato['idinep_orig'] = df_fato['idinep_orig'].astype(int)\n",
    "    df_fato = df_fato[colunas]\n",
    "    return df_fato\n",
    "\n",
    "\n",
    "\n",
    "def trata_dimensoes (df):\n",
    "\n",
    "    escolas0 = df[['censo', 'idinep_orig', 'idcategoria', 'endereco', 'escola']].copy()\n",
    "    escolas0 = escolas0.sort_values(by=['idinep_orig', 'censo'], ascending=False)\n",
    "\n",
    "    ### escolas1  = seleciona último registro cadastral\n",
    "    escolas1 = escolas0.drop_duplicates(subset='idinep_orig', keep='first')\n",
    "    Geocode = Geocoder(escolas1)\n",
    "    censo_d_escolas = Geocode.Processar()  \n",
    "    censo_d_escolas = censo_d_escolas.reset_index()\n",
    "    censo_d_escolas['index'] = censo_d_escolas.index\n",
    "    censo_d_escolas = censo_d_escolas[['index', 'idinep_orig', 'idcategoria', 'endereco', 'escola', 'idpoint']]\n",
    "    int_columns = ['index', 'idinep_orig', 'idpoint']\n",
    "    censo_d_escolas[int_columns] = censo_d_escolas[int_columns].astype(int)\n",
    "\n",
    "    return censo_d_escolas\n",
    "\n",
    "\n",
    "def processa_saida (tabela, nome_df, df):\n",
    "    bcp_file = f\"{cd_Bcp}{nome_df}_{ano_final}.csv\"\n",
    "    df.to_csv(bcp_file, sep=';', encoding='utf-8', index=False)\n",
    "    result = command_bcp(schema='dbo', table=tabela, bcp_file=bcp_file) \n",
    "    print(\"______________________________________________________________\")\n",
    "    print(f\"{tabela}: {result}\")"
   ]
  },
  {
   "cell_type": "markdown",
   "metadata": {},
   "source": [
    "## Extract"
   ]
  },
  {
   "cell_type": "code",
   "execution_count": null,
   "metadata": {
    "notebookRunGroups": {
     "groupValue": "12"
    }
   },
   "outputs": [],
   "source": [
    "if ano_inicial == ano_final:\n",
    "    base0 = pd.read_csv(f\"{cd_CensoEscolar}microdados_ed_basica_{ano_inicial}.csv\", encoding='windows-1252', sep=';')\n",
    "else:\n",
    "    dfs = []\n",
    "    for arquivo in os.listdir(cd_CensoEscolar):\n",
    "        for ano in anos:\n",
    "            if arquivo.endswith(f\"{ano}.csv\"):\n",
    "                df = pd.read_csv(os.path.join(cd_CensoEscolar, arquivo), encoding='windows-1252', sep=';')\n",
    "                dfs.append(df)\n",
    "    base0 = pd.concat(dfs, ignore_index=True)\n",
    "\n",
    "base1, base3 = transform(base0)"
   ]
  },
  {
   "cell_type": "markdown",
   "metadata": {},
   "source": [
    "### Execute"
   ]
  },
  {
   "cell_type": "markdown",
   "metadata": {},
   "source": [
    "- **Saída Dimensões**"
   ]
  },
  {
   "cell_type": "code",
   "execution_count": null,
   "metadata": {
    "notebookRunGroups": {
     "groupValue": "1"
    },
    "vscode": {
     "languageId": "plaintext"
    }
   },
   "outputs": [],
   "source": [
    "print(f\"Script iniciado em {inicio}\")\n",
    "\n",
    "censo_d_escolas = trata_dimensoes(base1)\n",
    "processa_saida('censo_d_escolas-inep', 'censo_d_escolas', censo_d_escolas)\n",
    "\n",
    "current_datetime = datetime.now()\n",
    "fim = current_datetime.strftime('%Y-%m-%d %H:%M:%S')\n",
    "\n",
    "print(f\"Script finalizado em {fim}\")"
   ]
  },
  {
   "cell_type": "markdown",
   "metadata": {},
   "source": [
    "- **Saída Fatos**"
   ]
  },
  {
   "cell_type": "code",
   "execution_count": null,
   "metadata": {
    "notebookRunGroups": {
     "groupValue": "2"
    }
   },
   "outputs": [],
   "source": [
    "print(f\"Script iniciado em {inicio}\")\n",
    "\n",
    "censo_colaboradores = gera_fato(base3, 'Colaboradores', 'idarea', ['iddata', 'idarea', 'valor', 'idinep_orig'])\n",
    "censo_docentes = gera_fato(base3, 'Docentes', 'idcurso', ['iddata', 'idcurso', 'valor', 'idinep_orig'])\n",
    "censo_matriculas_curso = gera_fato(base3, 'Matrículas', 'idcurso', ['idinep_orig', 'iddata', 'idcurso', 'valor'])\n",
    "censo_matriculas_curso_integral = gera_fato(base3, 'Matrículas Integral', 'idcurso', ['iddata', 'idcurso', 'valor', 'idinep_orig'])\n",
    "censo_turmas = gera_fato(base3, 'Turmas', 'idcurso', ['iddata', 'idcurso', 'valor', 'idinep_orig'])\n",
    "\n",
    "\n",
    "tabelas_dict = {\n",
    "    'censo_f_matriculas-curso': ('censo_matriculas_curso', censo_matriculas_curso),\n",
    "    'censo_f_matriculas-integral': ('censo_matriculas_curso_integral', censo_matriculas_curso_integral),\n",
    "    'censo_f_colaboradores': ('censo_colaboradores', censo_colaboradores),\n",
    "    'censo_f_docentes': ('censo_docentes', censo_docentes),\n",
    "    'censo_f_turmas': ('censo_turmas', censo_turmas)\n",
    "}\n",
    "\n",
    "for tabela, (nome_df, df) in tabelas_dict.items():\n",
    "    processa_saida(tabela, nome_df, df)\n",
    "\n",
    "current_datetime = datetime.now()\n",
    "fim = current_datetime.strftime('%Y-%m-%d %H:%M:%S')\n",
    "\n",
    "print(f\"Script finalizado em {fim}\")"
   ]
  }
 ],
 "metadata": {
  "kernelspec": {
   "display_name": "venv",
   "language": "python",
   "name": "python3"
  },
  "language_info": {
   "codemirror_mode": {
    "name": "ipython",
    "version": 3
   },
   "file_extension": ".py",
   "mimetype": "text/x-python",
   "name": "python",
   "nbconvert_exporter": "python",
   "pygments_lexer": "ipython3",
   "version": "3.11.3"
  }
 },
 "nbformat": 4,
 "nbformat_minor": 2
}
