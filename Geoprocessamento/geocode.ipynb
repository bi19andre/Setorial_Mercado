{
    "cells": [
        {
            "cell_type": "markdown",
            "metadata": {},
            "source": [
                "##  [&#8593;](#toc0_) <a id='toc1_1_'></a>**Inteligência Geográfica**\n",
                "____________________________________________________________"
            ]
        },
        {
            "cell_type": "markdown",
            "metadata": {},
            "source": [
                "Tabela de Entrada:\n",
                "\n",
                "            idescola    ano    idserie    endereco"
            ]
        },
        {
            "cell_type": "markdown",
            "metadata": {},
            "source": [
                "**Table of contents**<a id='toc0_'></a>    \n",
                "- [**Inteligência Geográfica**](#toc1_1_)    \n",
                "    - [**Configurações**](#toc1_1_1_)    \n",
                "      - [Import](#toc1_1_1_1_)    \n",
                "      - [Conta de Pagamento](#toc1_1_1_2_)    \n",
                "      - [Variáveis](#toc1_1_1_3_)    \n",
                "    - [**Extract**](#toc1_1_2_)    \n",
                "      - [Dicionários](#toc1_1_2_1_)    \n",
                "      - [Base](#toc1_1_2_2_)    \n",
                "    - [**Geocode**](#toc1_1_3_)    \n",
                "    - [**Saída**](#toc1_1_4_)    \n",
                "\n",
                "<!-- vscode-jupyter-toc-config\n",
                "\tnumbering=false\n",
                "\tanchor=true\n",
                "\tflat=false\n",
                "\tminLevel=1\n",
                "\tmaxLevel=4\n",
                "\t/vscode-jupyter-toc-config -->\n",
                "<!-- THIS CELL WILL BE REPLACED ON TOC UPDATE. DO NOT WRITE YOUR TEXT IN THIS CELL -->"
            ]
        },
        {
            "cell_type": "markdown",
            "metadata": {},
            "source": [
                "###  [&#8593;](#toc0_) <a id='toc1_1_1_'></a>**Configurações**"
            ]
        },
        {
            "cell_type": "markdown",
            "metadata": {},
            "source": [
                "####  [&#8593;](#toc0_) <a id='toc1_1_1_1_'></a>Import"
            ]
        },
        {
            "cell_type": "code",
            "execution_count": 1,
            "metadata": {
                "notebookRunGroups": {
                    "groupValue": "2"
                }
            },
            "outputs": [],
            "source": [
                "import pandas as pd\n",
                "import sys\n",
                "import warnings\n",
                "import os\n",
                "\n",
                "from datetime import datetime\n",
                "from geocoder import Geocoder \n",
                "\n",
                "sys.path.append('/apoiodev/')\n",
                "from connect import conn, command_bcp, update_pbi, gmaps, ws_inteligencia, ds_inteligencia\n",
                "from config import cd_Bcp, cd_GeoData, cd_CacheGeo\n",
                "from utils import clean_text\n",
                "warnings.filterwarnings(\"ignore\")"
            ]
        },
        {
            "cell_type": "markdown",
            "metadata": {},
            "source": [
                "####  [&#8593;](#toc0_) <a id='toc1_1_1_3_'></a>Variáveis"
            ]
        },
        {
            "cell_type": "code",
            "execution_count": 2,
            "metadata": {},
            "outputs": [],
            "source": [
                "idescola = input(\"idescola (0 para todas): \")\n",
                "ano_inicial = input(\"digite o ano inicial: \")\n",
                "ano_final = input(\"digite o ano final: \")\n"
            ]
        },
        {
            "cell_type": "markdown",
            "metadata": {},
            "source": [
                "###  [&#8593;](#toc0_) <a id='toc1_1_2_'></a>**Extract**"
            ]
        },
        {
            "cell_type": "markdown",
            "metadata": {},
            "source": [
                "####  [&#8593;](#toc0_) <a id='toc1_1_2_1_'></a>Dicionários"
            ]
        },
        {
            "cell_type": "code",
            "execution_count": 3,
            "metadata": {
                "notebookRunGroups": {
                    "groupValue": "2"
                }
            },
            "outputs": [],
            "source": [
                "def get_sqlGeoAuditoria(idescola):\n",
                "    auditoria = pd.read_sql(f\"SELECT * FROM [audita_geo_alunos] ('{idescola}') ORDER BY ano;\", conn) \n",
                "    return auditoria\n",
                "\n",
                "\n",
                "def get_sql_dict(column_name):    \n",
                "    query = f'SELECT idpoint, {column_name} FROM [cadastro_d_points];'\n",
                "    dPoints = pd.read_sql(query, conn)\n",
                "    sql_dict = dPoints.set_index(column_name)['idpoint'].to_dict()\n",
                "    return sql_dict\n",
                "    "
            ]
        },
        {
            "cell_type": "markdown",
            "metadata": {},
            "source": [
                "####  [&#8593;](#toc0_) <a id='toc1_1_2_2_'></a>Base"
            ]
        },
        {
            "cell_type": "code",
            "execution_count": 4,
            "metadata": {},
            "outputs": [
                {
                    "name": "stdout",
                    "output_type": "stream",
                    "text": [
                        "df: 175 linhas\n"
                    ]
                }
            ],
            "source": [
                "if idescola == '0':\n",
                "    dfs = []\n",
                "    for arquivo in os.listdir(cd_GeoData):\n",
                "        if arquivo.endswith(\".xlsx\"):\n",
                "            df = pd.read_excel(os.path.join(cd_GeoData, arquivo))\n",
                "            dfs.append(df)\n",
                "    df = pd.concat(dfs, ignore_index=True)\n",
                "else:\n",
                "    df = pd.DataFrame(pd.read_excel(f\"{cd_GeoData}{idescola}.xlsx\"))\n",
                "\n",
                "df['ano'] = df['ano'].astype(int)\n",
                "df = df.loc[\n",
                "    (df['ano'] >= int(ano_inicial)) & \n",
                "    (df['ano'] <= int(ano_final)) & \n",
                "    (df['idserie'] != 27)].reset_index(drop=True)\n",
                "print(f\"df: {len(df)} linhas\")\n",
                "df['endereco'] = df['endereco'].apply(lambda x: clean_text(x))"
            ]
        },
        {
            "cell_type": "markdown",
            "metadata": {},
            "source": [
                "###  [&#8593;](#toc0_) <a id='toc1_1_3_'></a>**Geocode**"
            ]
        },
        {
            "cell_type": "markdown",
            "metadata": {},
            "source": [
                "#### Busca endereços"
            ]
        },
        {
            "cell_type": "markdown",
            "metadata": {},
            "source": [
                "- **Primeira Busca:**  procura por enderecos já mapeados em [cadastro_d_points] e retorna o idpoint"
            ]
        },
        {
            "cell_type": "code",
            "execution_count": 5,
            "metadata": {
                "notebookRunGroups": {
                    "groupValue": "2"
                }
            },
            "outputs": [],
            "source": [
                "# Realiza a primeira busca dos idpoints na base SQL, a partir do endereco.\n",
                "enderecos_dict = get_sql_dict('endereco')\n",
                "point_dict = get_sql_dict('point')\n",
                "\n",
                "df['idpoint'] = df['endereco'].map(enderecos_dict)"
            ]
        },
        {
            "cell_type": "markdown",
            "metadata": {},
            "source": [
                "- **Segunda Busca:** procura os enderecos não cadastrados na base no diretório de cache do trabalho (cd_CacheGeo)"
            ]
        },
        {
            "cell_type": "code",
            "execution_count": 6,
            "metadata": {},
            "outputs": [],
            "source": [
                "if len(df.loc[df['idpoint'].isna()]) > 0:\n",
                "    caches = []\n",
                "    for arquivo in os.listdir(cd_CacheGeo):\n",
                "        if arquivo.endswith(\".csv\"):\n",
                "            cache = pd.read_csv(os.path.join(cd_CacheGeo, arquivo))\n",
                "            caches.append(cache)\n",
                "    cache = pd.concat(caches, ignore_index=True)\n",
                "    cache = cache.drop_duplicates().reset_index(drop=True)\n",
                "    cache['point'] = (cache['latitude'].astype(str) + ', ' + cache['longitude'].astype(str)).str.replace('.',',')\n",
                "    point_dict = get_sql_dict('point')\n",
                "    cache['idpoint'] = cache['point'].map(point_dict)\n",
                "    cache_dict = cache.set_index('endereco')['idpoint'].to_dict()\n",
                "\n",
                "    df.loc[df['idpoint'].isna(), 'idpoint'] = df['endereco'].map(cache_dict)"
            ]
        },
        {
            "cell_type": "markdown",
            "metadata": {},
            "source": [
                "#### Cadastra endereços"
            ]
        },
        {
            "cell_type": "markdown",
            "metadata": {},
            "source": [
                "- **Geoprocessamento:**  geoprocessa os enderecos ainda não cadastrados na base"
            ]
        },
        {
            "cell_type": "code",
            "execution_count": 7,
            "metadata": {},
            "outputs": [
                {
                    "name": "stdout",
                    "output_type": "stream",
                    "text": [
                        "155 endereços encaminhados para geoprocessamento\n",
                        "geoprocessamento iniciado em 2024-03-14 11:43:15\n",
                        "geoprocessamento finalizado em 2024-03-14 11:43:21\n",
                        "155 endereços geoprocessados\n"
                    ]
                }
            ],
            "source": [
                "base_geocode = pd.DataFrame(df.loc[df['idpoint'].isna()]['endereco'].drop_duplicates().reset_index(drop=True).copy())\n",
                "\n",
                "print(f\"{len(base_geocode)} endereços encaminhados para geoprocessamento\")\n",
                "if not base_geocode.empty:  \n",
                "    print(f\"geoprocessamento iniciado em {datetime.now().strftime('%Y-%m-%d %H:%M:%S')}\")\n",
                "\n",
                "\n",
                "\n",
                "Geocode = Geocoder(base_geocode)\n",
                "end_geocoded = Geocode.Processar()\n",
                "\n",
                "\n",
                "\n",
                "if not base_geocode.empty:  \n",
                "    print(f\"geoprocessamento finalizado em {datetime.now().strftime('%Y-%m-%d %H:%M:%S')}\")\n",
                "    print(f\"{len(end_geocoded)} endereços geoprocessados\")"
            ]
        },
        {
            "cell_type": "markdown",
            "metadata": {},
            "source": [
                "- confere se os enderecos geoprocessados já constam na base a partir do point"
            ]
        },
        {
            "cell_type": "code",
            "execution_count": 8,
            "metadata": {},
            "outputs": [
                {
                    "name": "stdout",
                    "output_type": "stream",
                    "text": [
                        "155 endereços válidos geoprocessados\n"
                    ]
                }
            ],
            "source": [
                "if not base_geocode.empty:  \n",
                "    \n",
                "    geocoded = end_geocoded.loc[end_geocoded['latitude'].notna()].reset_index().copy()\n",
                "    print(f\"{len(geocoded)} endereços válidos geoprocessados\")\n",
                "    geocoded['point'] = (geocoded['latitude'].astype(str) + ', ' + geocoded['longitude'].astype(str)).str.replace('.',',')\n",
                "    geocoded['idpoint'] = geocoded['point'].map(point_dict)"
            ]
        },
        {
            "cell_type": "markdown",
            "metadata": {},
            "source": [
                "- cadastra os novos endereços"
            ]
        },
        {
            "cell_type": "code",
            "execution_count": 9,
            "metadata": {},
            "outputs": [
                {
                    "name": "stdout",
                    "output_type": "stream",
                    "text": [
                        "points não cadastrados em cadastro_d_points:134\n",
                        "\n",
                        "Iniciando cópia...\n",
                        "\n",
                        "134 linhas copiadas.\n",
                        "Tamanho do pacote de rede (bytes): 4096\n",
                        "Tempo total do relógio (ms.)     : 63     Média : (2126.98 linhas /s.)\n",
                        "\n",
                        "Resultado: 155 enderecos mapeados a serem inseridos no df\n"
                    ]
                }
            ],
            "source": [
                "if not base_geocode.empty:  \n",
                "\n",
                "    Cadastrar = geocoded.loc[geocoded['idpoint'].isna()].reset_index(drop=True).copy()\n",
                "    print(f'points não cadastrados em cadastro_d_points:{len(Cadastrar)}') \n",
                "\n",
                "    if len(Cadastrar) > 0:\n",
                "\n",
                "        new_idpoint = max(point_dict.values()) + 1\n",
                "\n",
                "        for idx, row in Cadastrar.iterrows():\n",
                "            Cadastrar.at[idx, 'idpoint'] = new_idpoint          \n",
                "            point_dict[row['point']] = new_idpoint\n",
                "            new_idpoint += 1\n",
                "\n",
                "        points_to_update = Cadastrar.set_index('endereco')['idpoint'].to_dict()\n",
                "        df.loc[df['idpoint'].isna(), 'idpoint'] = df['endereco'].map(points_to_update)\n",
                "\n",
                "        Cadastrar = Cadastrar.reindex(columns=['idpoint', 'point', 'bairro', 'latitude', 'longitude', 'address', 'cidade', 'uf', 'cep'])\n",
                "\n",
                "        Cadastrar['idpoint'] = Cadastrar['idpoint'].astype(int)\n",
                "        Cadastrar['latitude'] = Cadastrar['latitude'].astype(float)\n",
                "        Cadastrar['longitude'] = Cadastrar['longitude'].astype(float)\n",
                "\n",
                "        bcp_file = cd_Bcp + 'd_points.csv'\n",
                "        if os.path.isfile(bcp_file):\n",
                "            os.remove(bcp_file)\n",
                "\n",
                "        Cadastrar.to_csv(bcp_file, sep=';', encoding='utf-8', index=False)\n",
                "        result = command_bcp('dbo', 'cadastro_d_points', bcp_file)           \n",
                "    else:\n",
                "        result = \"Comando bcp nao executado\"\n",
                "\n",
                "    print(result)\n",
                "\n",
                "    geocoded2 = geocoded.loc[geocoded['idpoint'].notna()].reset_index(drop=True).copy()\n",
                "    base_geocodificada = pd.concat([geocoded2, Cadastrar], ignore_index=True)\n",
                "\n",
                "    print(f\"Resultado: {len(base_geocodificada)} enderecos mapeados a serem inseridos no df\")"
            ]
        },
        {
            "cell_type": "markdown",
            "metadata": {},
            "source": [
                "- **Alimenta o df principal com os dados geocodificados**"
            ]
        },
        {
            "cell_type": "code",
            "execution_count": 10,
            "metadata": {},
            "outputs": [
                {
                    "name": "stdout",
                    "output_type": "stream",
                    "text": [
                        "df: 175 linhas\n"
                    ]
                }
            ],
            "source": [
                "if not base_geocode.empty:  \n",
                "\n",
                "    base_geocodificada_dict = base_geocodificada.set_index('endereco')['idpoint'].to_dict()\n",
                "    for endereco, idpoint in base_geocodificada_dict.items():\n",
                "        df.loc[df['endereco'] == endereco, 'idpoint'] = idpoint\n",
                "\n",
                "print(f\"df: {len(df)} linhas\")"
            ]
        },
        {
            "cell_type": "markdown",
            "metadata": {},
            "source": [
                "###  [&#8593;](#toc0_) <a id='toc1_1_4_'></a>**Saída**"
            ]
        },
        {
            "cell_type": "code",
            "execution_count": 11,
            "metadata": {},
            "outputs": [],
            "source": [
                "df_saida = df.loc[df['idpoint'].notna()].reset_index(drop=True).copy()\n",
                "df_saida['iddata'] = pd.to_datetime(df_saida['ano'].astype(str) + '-03-01')\n",
                "df_saida['idpoint'] = df_saida['idpoint'].astype(str).str.replace('.0', '')\n",
                "df_saida['idpoint'] = df_saida['idpoint'].astype(int)\n",
                "df_saida = df_saida[['idescola', 'iddata', 'idserie', 'idpoint']]"
            ]
        },
        {
            "cell_type": "code",
            "execution_count": 12,
            "metadata": {},
            "outputs": [
                {
                    "name": "stdout",
                    "output_type": "stream",
                    "text": [
                        "Resultado PBI: Solicitação de atualização enviada com sucesso.\n",
                        "Escola:C9271\n",
                        "______________________\n",
                        "\n",
                        "Iniciando cópia...\n",
                        "\n",
                        "175 linhas copiadas.\n",
                        "Tamanho do pacote de rede (bytes): 4096\n",
                        "Tempo total do relógio (ms.)     : 203    Média : (862.07 linhas /s.)\n",
                        "\n",
                        "Auditoria:\n"
                    ]
                },
                {
                    "data": {
                        "text/html": [
                            "<div>\n",
                            "<style scoped>\n",
                            "    .dataframe tbody tr th:only-of-type {\n",
                            "        vertical-align: middle;\n",
                            "    }\n",
                            "\n",
                            "    .dataframe tbody tr th {\n",
                            "        vertical-align: top;\n",
                            "    }\n",
                            "\n",
                            "    .dataframe thead th {\n",
                            "        text-align: right;\n",
                            "    }\n",
                            "</style>\n",
                            "<table border=\"1\" class=\"dataframe\">\n",
                            "  <thead>\n",
                            "    <tr style=\"text-align: right;\">\n",
                            "      <th></th>\n",
                            "      <th>ano</th>\n",
                            "      <th>AlunosGeo</th>\n",
                            "      <th>AlunosDE</th>\n",
                            "    </tr>\n",
                            "  </thead>\n",
                            "  <tbody>\n",
                            "    <tr>\n",
                            "      <th>0</th>\n",
                            "      <td>2022</td>\n",
                            "      <td>181</td>\n",
                            "      <td>181</td>\n",
                            "    </tr>\n",
                            "    <tr>\n",
                            "      <th>1</th>\n",
                            "      <td>2024</td>\n",
                            "      <td>175</td>\n",
                            "      <td>175</td>\n",
                            "    </tr>\n",
                            "  </tbody>\n",
                            "</table>\n",
                            "</div>"
                        ],
                        "text/plain": [
                            "    ano  AlunosGeo  AlunosDE\n",
                            "0  2022        181       181\n",
                            "1  2024        175       175"
                        ]
                    },
                    "metadata": {},
                    "output_type": "display_data"
                }
            ],
            "source": [
                "list_idescola = list(df_saida['idescola'].unique())\n",
                "\n",
                "for id in list_idescola:\n",
                "    saida = df_saida.loc[df_saida['idescola'] == id].reset_index(drop=True).copy()\n",
                "    bcp_file = f\"{cd_Bcp}{id}{ano_final}_geo.csv\"\n",
                "    saida.to_csv(bcp_file, sep=';', encoding='utf-8', index=False)\n",
                "    result = command_bcp('dbo', 'geo_f_alunos', bcp_file)\n",
                "    MsgPBI = update_pbi(ws_inteligencia, ds_inteligencia)\n",
                "    print(f\"Resultado PBI: {MsgPBI}\")\n",
                "    print(f'Escola:{id}')\n",
                "    print(\"______________________\")\n",
                "    print(result)\n",
                "    print(\"Auditoria:\")\n",
                "    auditoria = get_sqlGeoAuditoria(id) \n",
                "    \n",
                "    display(auditoria)"
            ]
        }
    ],
    "metadata": {
        "kernelspec": {
            "display_name": "Python 3 (ipykernel)",
            "language": "python",
            "name": "python3"
        },
        "language_info": {
            "codemirror_mode": {
                "name": "ipython",
                "version": 3
            },
            "file_extension": ".py",
            "mimetype": "text/x-python",
            "name": "python",
            "nbconvert_exporter": "python",
            "pygments_lexer": "ipython3",
            "version": "3.11.3"
        }
    },
    "nbformat": 4,
    "nbformat_minor": 2
}
