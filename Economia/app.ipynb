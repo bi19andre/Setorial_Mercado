{
 "cells": [
  {
   "cell_type": "markdown",
   "metadata": {},
   "source": [
    "# Análise Setorial"
   ]
  },
  {
   "cell_type": "markdown",
   "metadata": {},
   "source": [
    "<p style=\"font-size:16px; padding-left: 30px;\"><strong style=\"color: #3583DE;\">dbo.setorial_f_pib</strong>\n",
    "\n",
    "<p style=\"font-size:14px; padding-left: 40px;\"><strong style=\"color: #3583DE;\">Saída:</strong> [iddata], [pib].</p>\n",
    "\n",
    "<p style=\"font-size:16px; padding-left: 30px;\"><strong style=\"color: #3583DE;\">dbo.setorial_ipca</strong>\n",
    "\n",
    "<p style=\"font-size:14px; line-height: 50%; padding-left: 40px;\"><strong style=\"color: #3583DE;\">Saída:</strong> [iddata], [meta], [previsto], [realizado].</p>"
   ]
  },
  {
   "cell_type": "markdown",
   "metadata": {},
   "source": [
    "## Libs"
   ]
  },
  {
   "cell_type": "code",
   "execution_count": 2,
   "metadata": {},
   "outputs": [
    {
     "ename": "ImportError",
     "evalue": "cannot import name 'conn' from 'Config.connect' (d:\\BI19\\GitProjects\\Economia\\Config\\connect.py)",
     "output_type": "error",
     "traceback": [
      "\u001b[1;31m---------------------------------------------------------------------------\u001b[0m",
      "\u001b[1;31mImportError\u001b[0m                               Traceback (most recent call last)",
      "Cell \u001b[1;32mIn[2], line 1\u001b[0m\n\u001b[1;32m----> 1\u001b[0m \u001b[38;5;28;01mimport\u001b[39;00m \u001b[38;5;21;01mConfig\u001b[39;00m\u001b[38;5;21;01m.\u001b[39;00m\u001b[38;5;21;01msql\u001b[39;00m \n\u001b[0;32m      2\u001b[0m \u001b[38;5;28;01mimport\u001b[39;00m \u001b[38;5;21;01mConfig\u001b[39;00m\u001b[38;5;21;01m.\u001b[39;00m\u001b[38;5;21;01mutils\u001b[39;00m\n\u001b[0;32m      4\u001b[0m \u001b[38;5;28;01mfrom\u001b[39;00m \u001b[38;5;21;01mConfig\u001b[39;00m\u001b[38;5;21;01m.\u001b[39;00m\u001b[38;5;21;01mconnect\u001b[39;00m \u001b[38;5;28;01mimport\u001b[39;00m \u001b[38;5;241m*\u001b[39m\n",
      "File \u001b[1;32md:\\BI19\\GitProjects\\Economia\\Config\\sql.py:3\u001b[0m\n\u001b[0;32m      2\u001b[0m \u001b[38;5;28;01mimport\u001b[39;00m \u001b[38;5;21;01mpandas\u001b[39;00m \u001b[38;5;28;01mas\u001b[39;00m \u001b[38;5;21;01mpd\u001b[39;00m \n\u001b[1;32m----> 3\u001b[0m \u001b[38;5;28;01mfrom\u001b[39;00m \u001b[38;5;21;01m.\u001b[39;00m\u001b[38;5;21;01mconnect\u001b[39;00m \u001b[38;5;28;01mimport\u001b[39;00m conn\n\u001b[0;32m      5\u001b[0m sqlSelic \u001b[38;5;241m=\u001b[39m pd\u001b[38;5;241m.\u001b[39mread_sql(\u001b[38;5;124m\"\u001b[39m\u001b[38;5;124mSELECT MAX(data) FROM setorial_f_selic;\u001b[39m\u001b[38;5;124m\"\u001b[39m, conn)\n\u001b[0;32m      6\u001b[0m sqlIPCAmeta \u001b[38;5;241m=\u001b[39m pd\u001b[38;5;241m.\u001b[39mread_sql(\u001b[38;5;124m\"\u001b[39m\u001b[38;5;124mSELECT MAX(data) FROM setorial_f_ipca_meta;\u001b[39m\u001b[38;5;124m\"\u001b[39m, conn)\n",
      "\u001b[1;31mImportError\u001b[0m: cannot import name 'conn' from 'Config.connect' (d:\\BI19\\GitProjects\\Economia\\Config\\connect.py)"
     ]
    }
   ],
   "source": [
    "import Config.sql \n",
    "import Config.utils\n",
    "\n",
    "from Config.connect import *\n",
    "from Config.sql import *\n",
    "from Config.utils import *\n",
    "from Extract import get_IPCA, get_PIB, get_PNAD, get_SELIC\n",
    "from datetime import date, datetime"
   ]
  },
  {
   "cell_type": "markdown",
   "metadata": {},
   "source": [
    "## Variáveis"
   ]
  },
  {
   "cell_type": "code",
   "execution_count": null,
   "metadata": {},
   "outputs": [],
   "source": [
    "Atual = datetime.now().strftime(\"%d/%m/%Y %H:%M:%S\")\n",
    "Ano = date.today().year\n",
    "print('')\n",
    "print(f'{Atual}: Buscando dados...')\n",
    "print('')"
   ]
  },
  {
   "cell_type": "code",
   "execution_count": null,
   "metadata": {},
   "outputs": [],
   "source": [
    "IPCA = get_ipca(2024)\n",
    "PIB = get_pib()\n",
    "PNAD = get_PNAD()\n",
    "SELIC = get_SELIC()"
   ]
  },
  {
   "cell_type": "markdown",
   "metadata": {},
   "source": [
    "## Saída"
   ]
  },
  {
   "cell_type": "markdown",
   "metadata": {},
   "source": [
    "### Insere os dados na base SQL Server"
   ]
  },
  {
   "cell_type": "markdown",
   "metadata": {},
   "source": [
    "### Atualiza Power BI DataSet"
   ]
  },
  {
   "cell_type": "code",
   "execution_count": null,
   "metadata": {},
   "outputs": [],
   "source": [
    "update_url = f'https://api.powerbi.com/v1.0/myorg/groups/{ws_setorial}/datasets/{ds_setorial}/refreshes'\n",
    "response = requests.post(update_url, headers=PBIheaders)\n",
    "\n",
    "if response.status_code == 202:\n",
    "    MsgPBI = 'DS Análise Setorial - Solicitação de atualização enviada com sucesso.'\n",
    "else:\n",
    "    MsgPBI = 'DS Análise Setorial - Ocorreu um erro ao enviar a solicitação de atualização.'\n",
    "    MsgPBI = 'DS Análise Setorial - Código de status:', response.status_code\n",
    "    MsgPBI = 'DS Análise Setorial - Resposta:', response.json()\n",
    "\n",
    "print('')\n",
    "print(MsgPBI)\n",
    "print('')\n",
    "\n",
    "\n",
    "input(\"Pressione Enter para sair...\")"
   ]
  }
 ],
 "metadata": {
  "kernelspec": {
   "display_name": "Python 3",
   "language": "python",
   "name": "python3"
  },
  "language_info": {
   "codemirror_mode": {
    "name": "ipython",
    "version": 3
   },
   "file_extension": ".py",
   "mimetype": "text/x-python",
   "name": "python",
   "nbconvert_exporter": "python",
   "pygments_lexer": "ipython3",
   "version": "3.11.3"
  }
 },
 "nbformat": 4,
 "nbformat_minor": 2
}
